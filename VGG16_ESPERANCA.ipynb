{
  "cells": [
    {
      "cell_type": "markdown",
      "source": [
        ""
      ],
      "metadata": {
        "id": "L-zpotTfjrVM"
      }
    },
    {
      "cell_type": "markdown",
      "source": [
        "<html>\n",
        "<h1><center>Projek Akhir Deteksi Jamur Akar Putih Pada Pohon Karet<center></h1>\n",
        "</html>\n"
      ],
      "metadata": {
        "id": "trXmHJUQjs6-"
      }
    },
    {
      "cell_type": "markdown",
      "source": [
        "### Dataset"
      ],
      "metadata": {
        "id": "D1nTLmqMd7mx"
      }
    },
    {
      "cell_type": "code",
      "execution_count": null,
      "metadata": {
        "colab": {
          "base_uri": "https://localhost:8080/"
        },
        "id": "UMmUnsRBoCBi",
        "outputId": "77c44d3e-5f1b-403a-c62b-2fd572c5da7c"
      },
      "outputs": [
        {
          "output_type": "stream",
          "name": "stdout",
          "text": [
            "Mounted at /content/drive\n"
          ]
        }
      ],
      "source": [
        "from google.colab import drive\n",
        "drive.mount('/content/drive')"
      ]
    },
    {
      "cell_type": "markdown",
      "source": [
        "### Library"
      ],
      "metadata": {
        "id": "qEp9Xbyxd-VO"
      }
    },
    {
      "cell_type": "code",
      "execution_count": null,
      "metadata": {
        "id": "PM4SX93lRgVm"
      },
      "outputs": [],
      "source": [
        "from keras.layers import Input,Lambda,Dense,Flatten\n",
        "from keras.models import Model\n",
        "from keras.applications.vgg16 import VGG16\n",
        "from keras.applications.vgg16 import preprocess_input\n",
        "from keras.preprocessing import image\n",
        "from keras.preprocessing.image import ImageDataGenerator\n",
        "from keras.models import Sequential\n",
        "import numpy as np"
      ]
    },
    {
      "cell_type": "markdown",
      "source": [
        "### Arsitektur Model dan Visualisasi Arsitektur Jaringan"
      ],
      "metadata": {
        "id": "g9SMwo3OeBwJ"
      }
    },
    {
      "cell_type": "code",
      "execution_count": null,
      "metadata": {
        "colab": {
          "base_uri": "https://localhost:8080/"
        },
        "id": "CLZBFW-LPnel",
        "outputId": "55a84f55-2433-4051-e92a-b1517f57fc4e"
      },
      "outputs": [
        {
          "output_type": "stream",
          "name": "stdout",
          "text": [
            "Downloading data from https://storage.googleapis.com/tensorflow/keras-applications/vgg16/vgg16_weights_tf_dim_ordering_tf_kernels_notop.h5\n",
            "58892288/58889256 [==============================] - 0s 0us/step\n",
            "58900480/58889256 [==============================] - 0s 0us/step\n",
            "Model: \"model\"\n",
            "_________________________________________________________________\n",
            " Layer (type)                Output Shape              Param #   \n",
            "=================================================================\n",
            " input_1 (InputLayer)        [(None, 224, 224, 3)]     0         \n",
            "                                                                 \n",
            " block1_conv1 (Conv2D)       (None, 224, 224, 64)      1792      \n",
            "                                                                 \n",
            " block1_conv2 (Conv2D)       (None, 224, 224, 64)      36928     \n",
            "                                                                 \n",
            " block1_pool (MaxPooling2D)  (None, 112, 112, 64)      0         \n",
            "                                                                 \n",
            " block2_conv1 (Conv2D)       (None, 112, 112, 128)     73856     \n",
            "                                                                 \n",
            " block2_conv2 (Conv2D)       (None, 112, 112, 128)     147584    \n",
            "                                                                 \n",
            " block2_pool (MaxPooling2D)  (None, 56, 56, 128)       0         \n",
            "                                                                 \n",
            " block3_conv1 (Conv2D)       (None, 56, 56, 256)       295168    \n",
            "                                                                 \n",
            " block3_conv2 (Conv2D)       (None, 56, 56, 256)       590080    \n",
            "                                                                 \n",
            " block3_conv3 (Conv2D)       (None, 56, 56, 256)       590080    \n",
            "                                                                 \n",
            " block3_pool (MaxPooling2D)  (None, 28, 28, 256)       0         \n",
            "                                                                 \n",
            " block4_conv1 (Conv2D)       (None, 28, 28, 512)       1180160   \n",
            "                                                                 \n",
            " block4_conv2 (Conv2D)       (None, 28, 28, 512)       2359808   \n",
            "                                                                 \n",
            " block4_conv3 (Conv2D)       (None, 28, 28, 512)       2359808   \n",
            "                                                                 \n",
            " block4_pool (MaxPooling2D)  (None, 14, 14, 512)       0         \n",
            "                                                                 \n",
            " block5_conv1 (Conv2D)       (None, 14, 14, 512)       2359808   \n",
            "                                                                 \n",
            " block5_conv2 (Conv2D)       (None, 14, 14, 512)       2359808   \n",
            "                                                                 \n",
            " block5_conv3 (Conv2D)       (None, 14, 14, 512)       2359808   \n",
            "                                                                 \n",
            " block5_pool (MaxPooling2D)  (None, 7, 7, 512)         0         \n",
            "                                                                 \n",
            " flatten (Flatten)           (None, 25088)             0         \n",
            "                                                                 \n",
            " dense (Dense)               (None, 1)                 25089     \n",
            "                                                                 \n",
            "=================================================================\n",
            "Total params: 14,739,777\n",
            "Trainable params: 25,089\n",
            "Non-trainable params: 14,714,688\n",
            "_________________________________________________________________\n"
          ]
        }
      ],
      "source": [
        "##menentukan ukuran gambar\n",
        "IMAGE_SIZE = [224,224]\n",
        "\n",
        "##membuat model\n",
        "vgg = VGG16(input_shape=IMAGE_SIZE + [3], weights='imagenet', include_top=False)\n",
        "\n",
        "##freezing layers\n",
        "for layer in vgg.layers:\n",
        "  layer.trainable = False\n",
        "\n",
        "##menambahkan 3 node layer terakhir untuk prediksi\n",
        "x = Flatten()(vgg.output)\n",
        "prediction = Dense(1, activation='sigmoid')(x)\n",
        "model = Model(inputs=vgg.input, outputs=prediction)\n",
        "\n",
        "##\n",
        "model.summary()"
      ]
    },
    {
      "cell_type": "markdown",
      "source": [
        "### Model Compilation"
      ],
      "metadata": {
        "id": "S8jObxKUp0AI"
      }
    },
    {
      "cell_type": "code",
      "execution_count": null,
      "metadata": {
        "id": "e_mo9fJgPr_g"
      },
      "outputs": [],
      "source": [
        "import tensorflow as tf\n",
        "model.compile( loss = \"binary_crossentropy\",\n",
        "               optimizer='adam',\n",
        "               metrics=['accuracy'])"
      ]
    },
    {
      "cell_type": "markdown",
      "source": [
        "### Data Preprocessing"
      ],
      "metadata": {
        "id": "X3167Ft0ezbL"
      }
    },
    {
      "cell_type": "code",
      "execution_count": null,
      "metadata": {
        "colab": {
          "base_uri": "https://localhost:8080/"
        },
        "id": "KSPKvPKUPwKZ",
        "outputId": "601f5555-a80d-4abf-ded5-210d508a2052"
      },
      "outputs": [
        {
          "output_type": "stream",
          "name": "stdout",
          "text": [
            "Found 1168 images belonging to 2 classes.\n"
          ]
        }
      ],
      "source": [
        "train_datagen = ImageDataGenerator(rescale = 1./255, \n",
        "                                   shear_range = 0.2, \n",
        "                                   zoom_range = 0.2,\n",
        "                                   horizontal_flip= True)\n",
        "training_set = train_datagen.flow_from_directory('/content/drive/MyDrive/dataset/train',\n",
        "                                                 target_size = (224, 224),\n",
        "                                                 batch_size = 64,\n",
        "                                                 class_mode = 'binary')"
      ]
    },
    {
      "cell_type": "code",
      "execution_count": null,
      "metadata": {
        "colab": {
          "base_uri": "https://localhost:8080/"
        },
        "id": "gaAIGZ0uRxPo",
        "outputId": "5aaf5ba3-0ae8-470a-be49-a8bda867a290"
      },
      "outputs": [
        {
          "output_type": "stream",
          "name": "stdout",
          "text": [
            "Found 140 images belonging to 2 classes.\n"
          ]
        }
      ],
      "source": [
        "test_datagen = ImageDataGenerator(rescale = 1./255)\n",
        "test_set = test_datagen.flow_from_directory('/content/drive/MyDrive/dataset/valid',\n",
        "                                            target_size = (224, 224),\n",
        "                                            batch_size=16,\n",
        "                                            class_mode = 'binary')"
      ]
    },
    {
      "cell_type": "markdown",
      "source": [
        "### Train Model"
      ],
      "metadata": {
        "id": "FMY22msQfTTL"
      }
    },
    {
      "cell_type": "code",
      "execution_count": null,
      "metadata": {
        "colab": {
          "base_uri": "https://localhost:8080/"
        },
        "id": "EjPZaVROR69C",
        "outputId": "844335f6-1764-4721-b856-00b855cc4f72"
      },
      "outputs": [
        {
          "output_type": "stream",
          "name": "stdout",
          "text": [
            "Epoch 1/15\n",
            "16/16 [==============================] - 367s 23s/step - loss: 0.1489 - accuracy: 0.9467 - val_loss: 0.0616 - val_accuracy: 0.9929\n",
            "Epoch 2/15\n",
            "16/16 [==============================] - 221s 14s/step - loss: 0.0839 - accuracy: 0.9727 - val_loss: 0.0424 - val_accuracy: 0.9929\n",
            "Epoch 3/15\n",
            "16/16 [==============================] - 214s 13s/step - loss: 0.0493 - accuracy: 0.9918 - val_loss: 0.0329 - val_accuracy: 1.0000\n",
            "Epoch 4/15\n",
            "16/16 [==============================] - 210s 13s/step - loss: 0.0380 - accuracy: 0.9939 - val_loss: 0.0304 - val_accuracy: 1.0000\n",
            "Epoch 5/15\n",
            "16/16 [==============================] - 210s 13s/step - loss: 0.0325 - accuracy: 0.9969 - val_loss: 0.0291 - val_accuracy: 1.0000\n",
            "Epoch 6/15\n",
            "16/16 [==============================] - 208s 13s/step - loss: 0.0328 - accuracy: 0.9928 - val_loss: 0.0257 - val_accuracy: 1.0000\n",
            "Epoch 7/15\n",
            "16/16 [==============================] - 209s 13s/step - loss: 0.0228 - accuracy: 0.9990 - val_loss: 0.0283 - val_accuracy: 0.9929\n",
            "Epoch 8/15\n",
            "16/16 [==============================] - 209s 13s/step - loss: 0.0214 - accuracy: 0.9969 - val_loss: 0.0242 - val_accuracy: 1.0000\n",
            "Epoch 9/15\n",
            "16/16 [==============================] - 210s 13s/step - loss: 0.0215 - accuracy: 0.9990 - val_loss: 0.0241 - val_accuracy: 1.0000\n",
            "Epoch 10/15\n",
            "16/16 [==============================] - 210s 13s/step - loss: 0.0157 - accuracy: 1.0000 - val_loss: 0.0211 - val_accuracy: 1.0000\n",
            "Epoch 11/15\n",
            "16/16 [==============================] - 209s 14s/step - loss: 0.0169 - accuracy: 0.9980 - val_loss: 0.0284 - val_accuracy: 0.9929\n",
            "Epoch 12/15\n",
            "16/16 [==============================] - 209s 13s/step - loss: 0.0132 - accuracy: 1.0000 - val_loss: 0.0189 - val_accuracy: 1.0000\n",
            "Epoch 13/15\n",
            "16/16 [==============================] - 207s 13s/step - loss: 0.0138 - accuracy: 0.9990 - val_loss: 0.0205 - val_accuracy: 1.0000\n",
            "Epoch 14/15\n",
            "16/16 [==============================] - 206s 13s/step - loss: 0.0117 - accuracy: 1.0000 - val_loss: 0.0175 - val_accuracy: 1.0000\n",
            "Epoch 15/15\n",
            "16/16 [==============================] - 215s 14s/step - loss: 0.0117 - accuracy: 0.9990 - val_loss: 0.0177 - val_accuracy: 1.0000\n"
          ]
        }
      ],
      "source": [
        "history = model.fit(training_set, validation_data=test_set,\n",
        "                    steps_per_epoch = 16, epochs = 15)"
      ]
    },
    {
      "cell_type": "markdown",
      "source": [
        "### Saving Model"
      ],
      "metadata": {
        "id": "x8Q4K0ilfXtH"
      }
    },
    {
      "cell_type": "code",
      "execution_count": null,
      "metadata": {
        "id": "lEx6taXpIHnA"
      },
      "outputs": [],
      "source": [
        "model.save('modelJAP_backup.h5')"
      ]
    },
    {
      "cell_type": "markdown",
      "source": [
        "### Model Evaluate"
      ],
      "metadata": {
        "id": "RfSxKw8SfaH9"
      }
    },
    {
      "cell_type": "code",
      "execution_count": null,
      "metadata": {
        "colab": {
          "base_uri": "https://localhost:8080/"
        },
        "id": "RzypP3KdR_UU",
        "outputId": "3c70c263-2016-4fa3-f762-862ef676cef8"
      },
      "outputs": [
        {
          "output_type": "stream",
          "name": "stdout",
          "text": [
            "9/9 [==============================] - 86s 9s/step - loss: 0.0218 - accuracy: 1.0000\n"
          ]
        }
      ],
      "source": [
        "model.evaluate(test_set)"
      ]
    }
  ],
  "metadata": {
    "colab": {
      "collapsed_sections": [],
      "name": "VGG16_ESPERANCA.ipynb",
      "provenance": []
    },
    "kernelspec": {
      "display_name": "Python 3",
      "name": "python3"
    },
    "language_info": {
      "name": "python"
    },
    "accelerator": "GPU"
  },
  "nbformat": 4,
  "nbformat_minor": 0
}